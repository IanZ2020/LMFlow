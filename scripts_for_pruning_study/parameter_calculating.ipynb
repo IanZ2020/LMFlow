{
 "cells": [
  {
   "cell_type": "code",
   "execution_count": 1,
   "metadata": {},
   "outputs": [],
   "source": [
    "# Load model directly\n",
    "from transformers import AutoTokenizer, AutoModelForCausalLM\n",
    "import torch\n",
    "from torch import nn\n",
    "import torch.nn.utils.prune as prune\n",
    "import torch.nn.functional as F"
   ]
  },
  {
   "cell_type": "code",
   "execution_count": 2,
   "metadata": {},
   "outputs": [
    {
     "ename": "KeyboardInterrupt",
     "evalue": "",
     "output_type": "error",
     "traceback": [
      "\u001b[0;31m---------------------------------------------------------------------------\u001b[0m",
      "\u001b[0;31mKeyboardInterrupt\u001b[0m                         Traceback (most recent call last)",
      "Cell \u001b[0;32mIn[2], line 2\u001b[0m\n\u001b[1;32m      1\u001b[0m tokenizer \u001b[39m=\u001b[39m AutoTokenizer\u001b[39m.\u001b[39mfrom_pretrained(\u001b[39m\"\u001b[39m\u001b[39mpinkmanlove/llama-7b-hf\u001b[39m\u001b[39m\"\u001b[39m)\n\u001b[0;32m----> 2\u001b[0m model \u001b[39m=\u001b[39m AutoModelForCausalLM\u001b[39m.\u001b[39;49mfrom_pretrained(\u001b[39m\"\u001b[39;49m\u001b[39mpinkmanlove/llama-7b-hf\u001b[39;49m\u001b[39m\"\u001b[39;49m, torch_dtype \u001b[39m=\u001b[39;49m torch\u001b[39m.\u001b[39;49mbfloat16)\n",
      "File \u001b[0;32m~/anaconda3/envs/lmflow/lib/python3.9/site-packages/transformers/models/auto/auto_factory.py:471\u001b[0m, in \u001b[0;36m_BaseAutoModelClass.from_pretrained\u001b[0;34m(cls, pretrained_model_name_or_path, *model_args, **kwargs)\u001b[0m\n\u001b[1;32m    469\u001b[0m \u001b[39melif\u001b[39;00m \u001b[39mtype\u001b[39m(config) \u001b[39min\u001b[39;00m \u001b[39mcls\u001b[39m\u001b[39m.\u001b[39m_model_mapping\u001b[39m.\u001b[39mkeys():\n\u001b[1;32m    470\u001b[0m     model_class \u001b[39m=\u001b[39m _get_model_class(config, \u001b[39mcls\u001b[39m\u001b[39m.\u001b[39m_model_mapping)\n\u001b[0;32m--> 471\u001b[0m     \u001b[39mreturn\u001b[39;00m model_class\u001b[39m.\u001b[39;49mfrom_pretrained(\n\u001b[1;32m    472\u001b[0m         pretrained_model_name_or_path, \u001b[39m*\u001b[39;49mmodel_args, config\u001b[39m=\u001b[39;49mconfig, \u001b[39m*\u001b[39;49m\u001b[39m*\u001b[39;49mhub_kwargs, \u001b[39m*\u001b[39;49m\u001b[39m*\u001b[39;49mkwargs\n\u001b[1;32m    473\u001b[0m     )\n\u001b[1;32m    474\u001b[0m \u001b[39mraise\u001b[39;00m \u001b[39mValueError\u001b[39;00m(\n\u001b[1;32m    475\u001b[0m     \u001b[39mf\u001b[39m\u001b[39m\"\u001b[39m\u001b[39mUnrecognized configuration class \u001b[39m\u001b[39m{\u001b[39;00mconfig\u001b[39m.\u001b[39m\u001b[39m__class__\u001b[39m\u001b[39m}\u001b[39;00m\u001b[39m for this kind of AutoModel: \u001b[39m\u001b[39m{\u001b[39;00m\u001b[39mcls\u001b[39m\u001b[39m.\u001b[39m\u001b[39m__name__\u001b[39m\u001b[39m}\u001b[39;00m\u001b[39m.\u001b[39m\u001b[39m\\n\u001b[39;00m\u001b[39m\"\u001b[39m\n\u001b[1;32m    476\u001b[0m     \u001b[39mf\u001b[39m\u001b[39m\"\u001b[39m\u001b[39mModel type should be one of \u001b[39m\u001b[39m{\u001b[39;00m\u001b[39m'\u001b[39m\u001b[39m, \u001b[39m\u001b[39m'\u001b[39m\u001b[39m.\u001b[39mjoin(c\u001b[39m.\u001b[39m\u001b[39m__name__\u001b[39m\u001b[39m \u001b[39m\u001b[39mfor\u001b[39;00m\u001b[39m \u001b[39mc\u001b[39m \u001b[39m\u001b[39min\u001b[39;00m\u001b[39m \u001b[39m\u001b[39mcls\u001b[39m\u001b[39m.\u001b[39m_model_mapping\u001b[39m.\u001b[39mkeys())\u001b[39m}\u001b[39;00m\u001b[39m.\u001b[39m\u001b[39m\"\u001b[39m\n\u001b[1;32m    477\u001b[0m )\n",
      "File \u001b[0;32m~/anaconda3/envs/lmflow/lib/python3.9/site-packages/transformers/modeling_utils.py:2546\u001b[0m, in \u001b[0;36mPreTrainedModel.from_pretrained\u001b[0;34m(cls, pretrained_model_name_or_path, *model_args, **kwargs)\u001b[0m\n\u001b[1;32m   2543\u001b[0m     init_contexts\u001b[39m.\u001b[39mappend(init_empty_weights())\n\u001b[1;32m   2545\u001b[0m \u001b[39mwith\u001b[39;00m ContextManagers(init_contexts):\n\u001b[0;32m-> 2546\u001b[0m     model \u001b[39m=\u001b[39m \u001b[39mcls\u001b[39;49m(config, \u001b[39m*\u001b[39;49mmodel_args, \u001b[39m*\u001b[39;49m\u001b[39m*\u001b[39;49mmodel_kwargs)\n\u001b[1;32m   2548\u001b[0m \u001b[39m# Check first if we are `from_pt`\u001b[39;00m\n\u001b[1;32m   2549\u001b[0m \u001b[39mif\u001b[39;00m use_keep_in_fp32_modules:\n",
      "File \u001b[0;32m~/anaconda3/envs/lmflow/lib/python3.9/site-packages/transformers/models/llama/modeling_llama.py:614\u001b[0m, in \u001b[0;36mLlamaForCausalLM.__init__\u001b[0;34m(self, config)\u001b[0m\n\u001b[1;32m    612\u001b[0m \u001b[39mdef\u001b[39;00m \u001b[39m__init__\u001b[39m(\u001b[39mself\u001b[39m, config):\n\u001b[1;32m    613\u001b[0m     \u001b[39msuper\u001b[39m()\u001b[39m.\u001b[39m\u001b[39m__init__\u001b[39m(config)\n\u001b[0;32m--> 614\u001b[0m     \u001b[39mself\u001b[39m\u001b[39m.\u001b[39mmodel \u001b[39m=\u001b[39m LlamaModel(config)\n\u001b[1;32m    616\u001b[0m     \u001b[39mself\u001b[39m\u001b[39m.\u001b[39mlm_head \u001b[39m=\u001b[39m nn\u001b[39m.\u001b[39mLinear(config\u001b[39m.\u001b[39mhidden_size, config\u001b[39m.\u001b[39mvocab_size, bias\u001b[39m=\u001b[39m\u001b[39mFalse\u001b[39;00m)\n\u001b[1;32m    618\u001b[0m     \u001b[39m# Initialize weights and apply final processing\u001b[39;00m\n",
      "File \u001b[0;32m~/anaconda3/envs/lmflow/lib/python3.9/site-packages/transformers/models/llama/modeling_llama.py:445\u001b[0m, in \u001b[0;36mLlamaModel.__init__\u001b[0;34m(self, config)\u001b[0m\n\u001b[1;32m    442\u001b[0m \u001b[39mself\u001b[39m\u001b[39m.\u001b[39mvocab_size \u001b[39m=\u001b[39m config\u001b[39m.\u001b[39mvocab_size\n\u001b[1;32m    444\u001b[0m \u001b[39mself\u001b[39m\u001b[39m.\u001b[39membed_tokens \u001b[39m=\u001b[39m nn\u001b[39m.\u001b[39mEmbedding(config\u001b[39m.\u001b[39mvocab_size, config\u001b[39m.\u001b[39mhidden_size, \u001b[39mself\u001b[39m\u001b[39m.\u001b[39mpadding_idx)\n\u001b[0;32m--> 445\u001b[0m \u001b[39mself\u001b[39m\u001b[39m.\u001b[39mlayers \u001b[39m=\u001b[39m nn\u001b[39m.\u001b[39mModuleList([LlamaDecoderLayer(config) \u001b[39mfor\u001b[39;00m _ \u001b[39min\u001b[39;00m \u001b[39mrange\u001b[39m(config\u001b[39m.\u001b[39mnum_hidden_layers)])\n\u001b[1;32m    446\u001b[0m \u001b[39mself\u001b[39m\u001b[39m.\u001b[39mnorm \u001b[39m=\u001b[39m LlamaRMSNorm(config\u001b[39m.\u001b[39mhidden_size, eps\u001b[39m=\u001b[39mconfig\u001b[39m.\u001b[39mrms_norm_eps)\n\u001b[1;32m    448\u001b[0m \u001b[39mself\u001b[39m\u001b[39m.\u001b[39mgradient_checkpointing \u001b[39m=\u001b[39m \u001b[39mFalse\u001b[39;00m\n",
      "File \u001b[0;32m~/anaconda3/envs/lmflow/lib/python3.9/site-packages/transformers/models/llama/modeling_llama.py:445\u001b[0m, in \u001b[0;36m<listcomp>\u001b[0;34m(.0)\u001b[0m\n\u001b[1;32m    442\u001b[0m \u001b[39mself\u001b[39m\u001b[39m.\u001b[39mvocab_size \u001b[39m=\u001b[39m config\u001b[39m.\u001b[39mvocab_size\n\u001b[1;32m    444\u001b[0m \u001b[39mself\u001b[39m\u001b[39m.\u001b[39membed_tokens \u001b[39m=\u001b[39m nn\u001b[39m.\u001b[39mEmbedding(config\u001b[39m.\u001b[39mvocab_size, config\u001b[39m.\u001b[39mhidden_size, \u001b[39mself\u001b[39m\u001b[39m.\u001b[39mpadding_idx)\n\u001b[0;32m--> 445\u001b[0m \u001b[39mself\u001b[39m\u001b[39m.\u001b[39mlayers \u001b[39m=\u001b[39m nn\u001b[39m.\u001b[39mModuleList([LlamaDecoderLayer(config) \u001b[39mfor\u001b[39;00m _ \u001b[39min\u001b[39;00m \u001b[39mrange\u001b[39m(config\u001b[39m.\u001b[39mnum_hidden_layers)])\n\u001b[1;32m    446\u001b[0m \u001b[39mself\u001b[39m\u001b[39m.\u001b[39mnorm \u001b[39m=\u001b[39m LlamaRMSNorm(config\u001b[39m.\u001b[39mhidden_size, eps\u001b[39m=\u001b[39mconfig\u001b[39m.\u001b[39mrms_norm_eps)\n\u001b[1;32m    448\u001b[0m \u001b[39mself\u001b[39m\u001b[39m.\u001b[39mgradient_checkpointing \u001b[39m=\u001b[39m \u001b[39mFalse\u001b[39;00m\n",
      "File \u001b[0;32m~/anaconda3/envs/lmflow/lib/python3.9/site-packages/transformers/models/llama/modeling_llama.py:256\u001b[0m, in \u001b[0;36mLlamaDecoderLayer.__init__\u001b[0;34m(self, config)\u001b[0m\n\u001b[1;32m    254\u001b[0m \u001b[39mself\u001b[39m\u001b[39m.\u001b[39mhidden_size \u001b[39m=\u001b[39m config\u001b[39m.\u001b[39mhidden_size\n\u001b[1;32m    255\u001b[0m \u001b[39mself\u001b[39m\u001b[39m.\u001b[39mself_attn \u001b[39m=\u001b[39m LlamaAttention(config\u001b[39m=\u001b[39mconfig)\n\u001b[0;32m--> 256\u001b[0m \u001b[39mself\u001b[39m\u001b[39m.\u001b[39mmlp \u001b[39m=\u001b[39m LlamaMLP(\n\u001b[1;32m    257\u001b[0m     hidden_size\u001b[39m=\u001b[39;49m\u001b[39mself\u001b[39;49m\u001b[39m.\u001b[39;49mhidden_size,\n\u001b[1;32m    258\u001b[0m     intermediate_size\u001b[39m=\u001b[39;49mconfig\u001b[39m.\u001b[39;49mintermediate_size,\n\u001b[1;32m    259\u001b[0m     hidden_act\u001b[39m=\u001b[39;49mconfig\u001b[39m.\u001b[39;49mhidden_act,\n\u001b[1;32m    260\u001b[0m )\n\u001b[1;32m    261\u001b[0m \u001b[39mself\u001b[39m\u001b[39m.\u001b[39minput_layernorm \u001b[39m=\u001b[39m LlamaRMSNorm(config\u001b[39m.\u001b[39mhidden_size, eps\u001b[39m=\u001b[39mconfig\u001b[39m.\u001b[39mrms_norm_eps)\n\u001b[1;32m    262\u001b[0m \u001b[39mself\u001b[39m\u001b[39m.\u001b[39mpost_attention_layernorm \u001b[39m=\u001b[39m LlamaRMSNorm(config\u001b[39m.\u001b[39mhidden_size, eps\u001b[39m=\u001b[39mconfig\u001b[39m.\u001b[39mrms_norm_eps)\n",
      "File \u001b[0;32m~/anaconda3/envs/lmflow/lib/python3.9/site-packages/transformers/models/llama/modeling_llama.py:151\u001b[0m, in \u001b[0;36mLlamaMLP.__init__\u001b[0;34m(self, hidden_size, intermediate_size, hidden_act)\u001b[0m\n\u001b[1;32m    144\u001b[0m \u001b[39mdef\u001b[39;00m \u001b[39m__init__\u001b[39m(\n\u001b[1;32m    145\u001b[0m     \u001b[39mself\u001b[39m,\n\u001b[1;32m    146\u001b[0m     hidden_size: \u001b[39mint\u001b[39m,\n\u001b[1;32m    147\u001b[0m     intermediate_size: \u001b[39mint\u001b[39m,\n\u001b[1;32m    148\u001b[0m     hidden_act: \u001b[39mstr\u001b[39m,\n\u001b[1;32m    149\u001b[0m ):\n\u001b[1;32m    150\u001b[0m     \u001b[39msuper\u001b[39m()\u001b[39m.\u001b[39m\u001b[39m__init__\u001b[39m()\n\u001b[0;32m--> 151\u001b[0m     \u001b[39mself\u001b[39m\u001b[39m.\u001b[39mgate_proj \u001b[39m=\u001b[39m nn\u001b[39m.\u001b[39;49mLinear(hidden_size, intermediate_size, bias\u001b[39m=\u001b[39;49m\u001b[39mFalse\u001b[39;49;00m)\n\u001b[1;32m    152\u001b[0m     \u001b[39mself\u001b[39m\u001b[39m.\u001b[39mdown_proj \u001b[39m=\u001b[39m nn\u001b[39m.\u001b[39mLinear(intermediate_size, hidden_size, bias\u001b[39m=\u001b[39m\u001b[39mFalse\u001b[39;00m)\n\u001b[1;32m    153\u001b[0m     \u001b[39mself\u001b[39m\u001b[39m.\u001b[39mup_proj \u001b[39m=\u001b[39m nn\u001b[39m.\u001b[39mLinear(hidden_size, intermediate_size, bias\u001b[39m=\u001b[39m\u001b[39mFalse\u001b[39;00m)\n",
      "File \u001b[0;32m~/anaconda3/envs/lmflow/lib/python3.9/site-packages/torch/nn/modules/linear.py:101\u001b[0m, in \u001b[0;36mLinear.__init__\u001b[0;34m(self, in_features, out_features, bias, device, dtype)\u001b[0m\n\u001b[1;32m     99\u001b[0m \u001b[39melse\u001b[39;00m:\n\u001b[1;32m    100\u001b[0m     \u001b[39mself\u001b[39m\u001b[39m.\u001b[39mregister_parameter(\u001b[39m'\u001b[39m\u001b[39mbias\u001b[39m\u001b[39m'\u001b[39m, \u001b[39mNone\u001b[39;00m)\n\u001b[0;32m--> 101\u001b[0m \u001b[39mself\u001b[39;49m\u001b[39m.\u001b[39;49mreset_parameters()\n",
      "File \u001b[0;32m~/anaconda3/envs/lmflow/lib/python3.9/site-packages/torch/nn/modules/linear.py:107\u001b[0m, in \u001b[0;36mLinear.reset_parameters\u001b[0;34m(self)\u001b[0m\n\u001b[1;32m    103\u001b[0m \u001b[39mdef\u001b[39;00m \u001b[39mreset_parameters\u001b[39m(\u001b[39mself\u001b[39m) \u001b[39m-\u001b[39m\u001b[39m>\u001b[39m \u001b[39mNone\u001b[39;00m:\n\u001b[1;32m    104\u001b[0m     \u001b[39m# Setting a=sqrt(5) in kaiming_uniform is the same as initializing with\u001b[39;00m\n\u001b[1;32m    105\u001b[0m     \u001b[39m# uniform(-1/sqrt(in_features), 1/sqrt(in_features)). For details, see\u001b[39;00m\n\u001b[1;32m    106\u001b[0m     \u001b[39m# https://github.com/pytorch/pytorch/issues/57109\u001b[39;00m\n\u001b[0;32m--> 107\u001b[0m     init\u001b[39m.\u001b[39;49mkaiming_uniform_(\u001b[39mself\u001b[39;49m\u001b[39m.\u001b[39;49mweight, a\u001b[39m=\u001b[39;49mmath\u001b[39m.\u001b[39;49msqrt(\u001b[39m5\u001b[39;49m))\n\u001b[1;32m    108\u001b[0m     \u001b[39mif\u001b[39;00m \u001b[39mself\u001b[39m\u001b[39m.\u001b[39mbias \u001b[39mis\u001b[39;00m \u001b[39mnot\u001b[39;00m \u001b[39mNone\u001b[39;00m:\n\u001b[1;32m    109\u001b[0m         fan_in, _ \u001b[39m=\u001b[39m init\u001b[39m.\u001b[39m_calculate_fan_in_and_fan_out(\u001b[39mself\u001b[39m\u001b[39m.\u001b[39mweight)\n",
      "File \u001b[0;32m~/anaconda3/envs/lmflow/lib/python3.9/site-packages/torch/nn/init.py:412\u001b[0m, in \u001b[0;36mkaiming_uniform_\u001b[0;34m(tensor, a, mode, nonlinearity)\u001b[0m\n\u001b[1;32m    410\u001b[0m bound \u001b[39m=\u001b[39m math\u001b[39m.\u001b[39msqrt(\u001b[39m3.0\u001b[39m) \u001b[39m*\u001b[39m std  \u001b[39m# Calculate uniform bounds from standard deviation\u001b[39;00m\n\u001b[1;32m    411\u001b[0m \u001b[39mwith\u001b[39;00m torch\u001b[39m.\u001b[39mno_grad():\n\u001b[0;32m--> 412\u001b[0m     \u001b[39mreturn\u001b[39;00m tensor\u001b[39m.\u001b[39;49muniform_(\u001b[39m-\u001b[39;49mbound, bound)\n",
      "\u001b[0;31mKeyboardInterrupt\u001b[0m: "
     ]
    }
   ],
   "source": [
    "tokenizer = AutoTokenizer.from_pretrained(\"pinkmanlove/llama-7b-hf\")\n",
    "model = AutoModelForCausalLM.from_pretrained(\"pinkmanlove/llama-7b-hf\", torch_dtype = torch.bfloat16)"
   ]
  },
  {
   "cell_type": "code",
   "execution_count": 27,
   "metadata": {},
   "outputs": [],
   "source": [
    "def var_of_layer(layer):\n",
    "    return torch.std(torch.concat([torch.flatten(x[1]) for x in list(layer.named_parameters())]))"
   ]
  },
  {
   "cell_type": "code",
   "execution_count": 40,
   "metadata": {},
   "outputs": [],
   "source": [
    "def agg_of_layer(layer):\n",
    "    return torch.sum(torch.concat([torch.abs(torch.flatten(x[1])) for x in list(layer.named_parameters())]))"
   ]
  },
  {
   "cell_type": "code",
   "execution_count": 59,
   "metadata": {},
   "outputs": [],
   "source": [
    "def l2_of_layer(layer):\n",
    "    return torch.linalg.vector_norm(torch.concat([torch.abs(torch.flatten(x[1])) for x in list(layer.named_parameters())]))"
   ]
  },
  {
   "cell_type": "code",
   "execution_count": 60,
   "metadata": {},
   "outputs": [],
   "source": [
    "stds = []\n",
    "aggs = []\n",
    "l2 = []\n",
    "for layer in model.base_model.layers:\n",
    "    stds.append(var_of_layer(layer))\n",
    "    aggs.append(agg_of_layer(layer))\n",
    "    l2.append(l2_of_layer(layer))"
   ]
  },
  {
   "cell_type": "code",
   "execution_count": 78,
   "metadata": {},
   "outputs": [],
   "source": [
    "def nuc_norm_of_layer(layer):\n",
    "    return torch.tensor([torch.linalg.matrix_norm(x[1]) for x in list(layer.named_parameters()) if x[1].dim()>=2])"
   ]
  },
  {
   "cell_type": "code",
   "execution_count": 85,
   "metadata": {},
   "outputs": [],
   "source": [
    "nuc = []\n",
    "for layer in model.base_model.layers:\n",
    "    nuc.append(float(torch.sum(nuc_norm_of_layer(layer))))"
   ]
  },
  {
   "cell_type": "code",
   "execution_count": 80,
   "metadata": {},
   "outputs": [
    {
     "name": "stdout",
     "output_type": "stream",
     "text": [
      "804.0, 956.0, 1020.0, 996.0, 996.0, 984.0, 992.0, 996.0, 984.0, 1000.0, 996.0, 1000.0, 1004.0, 1000.0, 1004.0, 1004.0, 1004.0, 1004.0, 1000.0, 1000.0, 1004.0, 1004.0, 1004.0, 1008.0, 1000.0, 1008.0, 1008.0, 1008.0, 1008.0, 1012.0, 1012.0, 1012.0, 1016.0, 1016.0, 1024.0, 1016.0, 1016.0, 1020.0, 1020.0, 1004.0, "
     ]
    }
   ],
   "source": [
    "for std in nuc:\n",
    "    print(float(std),end=', ')"
   ]
  },
  {
   "cell_type": "code",
   "execution_count": 61,
   "metadata": {},
   "outputs": [
    {
     "name": "stdout",
     "output_type": "stream",
     "text": [
      "0.0179443359375, 0.0216064453125, 0.0228271484375, 0.0220947265625, 0.0220947265625, 0.0218505859375, 0.02197265625, 0.02197265625, 0.0218505859375, 0.0220947265625, 0.02197265625, 0.0220947265625, 0.0220947265625, 0.0220947265625, 0.0220947265625, 0.0220947265625, 0.0220947265625, 0.0220947265625, 0.0220947265625, 0.0220947265625, 0.0220947265625, 0.0220947265625, 0.0220947265625, 0.022216796875, 0.0220947265625, 0.0220947265625, 0.022216796875, 0.022216796875, 0.022216796875, 0.0223388671875, 0.0223388671875, 0.0223388671875, 0.0223388671875, 0.0224609375, 0.0225830078125, 0.0224609375, 0.0224609375, 0.0224609375, 0.0225830078125, 0.0224609375, \n",
      "4161536.0, 5079040.0, 5472256.0, 5439488.0, 5439488.0, 5406720.0, 5406720.0, 5472256.0, 5406720.0, 5472256.0, 5472256.0, 5472256.0, 5505024.0, 5505024.0, 5505024.0, 5505024.0, 5537792.0, 5537792.0, 5505024.0, 5505024.0, 5537792.0, 5537792.0, 5537792.0, 5570560.0, 5537792.0, 5537792.0, 5570560.0, 5570560.0, 5570560.0, 5603328.0, 5570560.0, 5603328.0, 5603328.0, 5636096.0, 5636096.0, 5603328.0, 5603328.0, 5603328.0, 5603328.0, 5570560.0, \n",
      "296.0, 364.0, 380.0, 372.0, 372.0, 368.0, 370.0, 372.0, 370.0, 372.0, 372.0, 372.0, 374.0, 372.0, 374.0, 374.0, 374.0, 374.0, 374.0, 374.0, 374.0, 374.0, 374.0, 374.0, 374.0, 374.0, 376.0, 376.0, 376.0, 376.0, 378.0, 378.0, 378.0, 380.0, 380.0, 380.0, 380.0, 380.0, 380.0, 380.0, "
     ]
    }
   ],
   "source": [
    "for std in stds:\n",
    "    print(float(std),end=', ')\n",
    "print()\n",
    "for agg in aggs:\n",
    "    print(float(agg),end=', ')\n",
    "print()\n",
    "for agg in l2:\n",
    "    print(float(agg),end=', ')"
   ]
  },
  {
   "cell_type": "code",
   "execution_count": null,
   "metadata": {},
   "outputs": [],
   "source": [
    "for std in stds:\n",
    "    print(float(std),end=', ')\n",
    "print()\n",
    "for agg in aggs:\n",
    "    print(float(agg),end=', ')"
   ]
  },
  {
   "cell_type": "code",
   "execution_count": 46,
   "metadata": {},
   "outputs": [],
   "source": [
    "std_13b = [0.0179443359375, 0.0216064453125, 0.0228271484375, 0.0220947265625, 0.0220947265625, 0.0218505859375, 0.02197265625, 0.02197265625, 0.0218505859375, 0.0220947265625, 0.02197265625, 0.0220947265625, 0.0220947265625, 0.0220947265625, 0.0220947265625, 0.0220947265625, 0.0220947265625, 0.0220947265625, 0.0220947265625, 0.0220947265625, 0.0220947265625, 0.0220947265625, 0.0220947265625, 0.022216796875, 0.0220947265625, 0.0220947265625, 0.022216796875, 0.022216796875, 0.022216796875, 0.0223388671875, 0.0223388671875, 0.0223388671875, 0.0223388671875, 0.0224609375, 0.0225830078125, 0.0224609375, 0.0224609375, 0.0224609375, 0.0225830078125, 0.0224609375]\n",
    "sum_13b = [4161536.0, 5079040.0, 5472256.0, 5439488.0, 5439488.0, 5406720.0, 5406720.0, 5472256.0, 5406720.0, 5472256.0, 5472256.0, 5472256.0, 5505024.0, 5505024.0, 5505024.0, 5505024.0, 5537792.0, 5537792.0, 5505024.0, 5505024.0, 5537792.0, 5537792.0, 5537792.0, 5570560.0, 5537792.0, 5537792.0, 5570560.0, 5570560.0, 5570560.0, 5603328.0, 5570560.0, 5603328.0, 5603328.0, 5636096.0, 5636096.0, 5603328.0, 5603328.0, 5603328.0, 5603328.0, 5570560.0]"
   ]
  },
  {
   "cell_type": "code",
   "execution_count": 62,
   "metadata": {},
   "outputs": [],
   "source": [
    "l2_13b = [296.0, 364.0, 380.0, 372.0, 372.0, 368.0, 370.0, 372.0, 370.0, 372.0, 372.0, 372.0, 374.0, 372.0, 374.0, 374.0, 374.0, 374.0, 374.0, 374.0, 374.0, 374.0, 374.0, 374.0, 374.0, 374.0, 376.0, 376.0, 376.0, 376.0, 378.0, 378.0, 378.0, 380.0, 380.0, 380.0, 380.0, 380.0, 380.0, 380.0]"
   ]
  },
  {
   "cell_type": "code",
   "execution_count": 47,
   "metadata": {},
   "outputs": [],
   "source": [
    "std_7b = [0.0201416015625, 0.0224609375, 0.0238037109375, 0.022705078125, 0.0228271484375, 0.0225830078125, 0.022705078125, 0.0225830078125, 0.0224609375, 0.0223388671875, 0.0224609375, 0.0228271484375, 0.0225830078125, 0.0225830078125, 0.022705078125, 0.022705078125, 0.0228271484375, 0.0228271484375, 0.0228271484375, 0.0228271484375, 0.0230712890625, 0.02294921875, 0.0230712890625, 0.0230712890625, 0.023193359375, 0.0234375, 0.0235595703125, 0.023681640625, 0.023681640625, 0.0238037109375, 0.0238037109375, 0.02392578125]\n",
    "sum_7b = [2949120.0, 3342336.0, 3604480.0, 3555328.0, 3555328.0, 3538944.0, 3571712.0, 3555328.0, 3522560.0, 3506176.0, 3538944.0, 3604480.0, 3555328.0, 3571712.0, 3588096.0, 3588096.0, 3637248.0, 3620864.0, 3620864.0, 3637248.0, 3670016.0, 3653632.0, 3686400.0, 3670016.0, 3702784.0, 3735552.0, 3751936.0, 3768320.0, 3751936.0, 3784704.0, 3768320.0, 3784704.0]"
   ]
  },
  {
   "cell_type": "code",
   "execution_count": 48,
   "metadata": {},
   "outputs": [],
   "source": [
    "import matplotlib.pyplot as plt"
   ]
  },
  {
   "cell_type": "code",
   "execution_count": 86,
   "metadata": {},
   "outputs": [
    {
     "data": {
      "image/png": "[encoded data removed]",
      "text/plain": [
       "<Figure size 640x480 with 1 Axes>"
      ]
     },
     "metadata": {},
     "output_type": "display_data"
    }
   ],
   "source": [
    "plt.plot(nuc,label ='nuc_llama_13b')\n",
    "plt.legend()\n",
    "plt.show()"
   ]
  },
  {
   "cell_type": "code",
   "execution_count": 56,
   "metadata": {},
   "outputs": [
    {
     "name": "stdout",
     "output_type": "stream",
     "text": [
      "tensor([ 0,  1,  5,  8,  6,  7, 10, 20, 25, 24, 22, 21, 19, 18, 17, 16, 14, 13,\n",
      "        12, 11,  9,  4, 15,  3, 28, 27, 26, 23, 29, 30, 31, 32, 33, 35, 36, 37,\n",
      "        39, 34, 38,  2])\n",
      "tensor([ 0,  1,  5,  6,  8,  3,  4, 11, 10,  9,  7,  2, 12, 13, 14, 15, 18, 19,\n",
      "        20, 25, 24, 22, 21, 17, 16, 23, 39, 30, 28, 27, 26, 29, 31, 32, 35, 36,\n",
      "        37, 38, 33, 34])\n",
      "tensor([ 0,  9,  8, 10,  1,  5,  7, 12, 13,  6,  3, 14, 15, 18, 16, 19, 17, 11,\n",
      "         4, 21, 20, 22, 23, 24, 25, 26, 27, 28,  2, 29, 30, 31])\n",
      "tensor([ 0,  1,  9,  8,  5, 10,  3,  4,  7, 12,  6, 13, 14, 15, 11,  2, 17, 18,\n",
      "        16, 19, 21, 20, 23, 22, 24, 25, 26, 28, 27, 30, 29, 31])\n"
     ]
    }
   ],
   "source": [
    "print(torch.argsort(torch.tensor(std_13b)))\n",
    "print(torch.argsort(torch.tensor(sum_13b)))\n",
    "print(torch.argsort(torch.tensor(std_7b)))\n",
    "print(torch.argsort(torch.tensor(sum_7b)))"
   ]
  },
  {
   "cell_type": "code",
   "execution_count": 64,
   "metadata": {},
   "outputs": [
    {
     "name": "stdout",
     "output_type": "stream",
     "text": [
      "tensor([ 0,  1,  5,  6,  8,  9, 13, 11, 10,  7,  4,  3, 20, 24, 23, 22, 21, 25,\n",
      "        19, 17, 16, 15, 14, 12, 18, 29, 28, 27, 26, 30, 31, 32,  2, 33, 34, 35,\n",
      "        36, 37, 38, 39])\n"
     ]
    }
   ],
   "source": [
    "print(torch.argsort(torch.tensor(l2_13b)))"
   ]
  },
  {
   "cell_type": "code",
   "execution_count": 82,
   "metadata": {},
   "outputs": [
    {
     "name": "stdout",
     "output_type": "stream",
     "text": [
      "tensor([ 0,  1,  5,  8,  6,  3,  4,  7, 10, 18, 19, 13, 24, 11,  9, 22, 21, 20,\n",
      "        39, 16, 15, 14, 12, 17, 23, 25, 26, 27, 28, 29, 31, 30, 32, 33, 35, 36,\n",
      "        37, 38,  2, 34])\n"
     ]
    }
   ],
   "source": [
    "print(torch.argsort(torch.tensor(nuc)))"
   ]
  },
  {
   "cell_type": "code",
   "execution_count": 84,
   "metadata": {},
   "outputs": [
    {
     "data": {
      "text/plain": [
       "[tensor(804., dtype=torch.bfloat16),\n",
       " tensor(956., dtype=torch.bfloat16),\n",
       " tensor(1020., dtype=torch.bfloat16),\n",
       " tensor(996., dtype=torch.bfloat16),\n",
       " tensor(996., dtype=torch.bfloat16),\n",
       " tensor(984., dtype=torch.bfloat16),\n",
       " tensor(992., dtype=torch.bfloat16),\n",
       " tensor(996., dtype=torch.bfloat16),\n",
       " tensor(984., dtype=torch.bfloat16),\n",
       " tensor(1000., dtype=torch.bfloat16),\n",
       " tensor(996., dtype=torch.bfloat16),\n",
       " tensor(1000., dtype=torch.bfloat16),\n",
       " tensor(1004., dtype=torch.bfloat16),\n",
       " tensor(1000., dtype=torch.bfloat16),\n",
       " tensor(1004., dtype=torch.bfloat16),\n",
       " tensor(1004., dtype=torch.bfloat16),\n",
       " tensor(1004., dtype=torch.bfloat16),\n",
       " tensor(1004., dtype=torch.bfloat16),\n",
       " tensor(1000., dtype=torch.bfloat16),\n",
       " tensor(1000., dtype=torch.bfloat16),\n",
       " tensor(1004., dtype=torch.bfloat16),\n",
       " tensor(1004., dtype=torch.bfloat16),\n",
       " tensor(1004., dtype=torch.bfloat16),\n",
       " tensor(1008., dtype=torch.bfloat16),\n",
       " tensor(1000., dtype=torch.bfloat16),\n",
       " tensor(1008., dtype=torch.bfloat16),\n",
       " tensor(1008., dtype=torch.bfloat16),\n",
       " tensor(1008., dtype=torch.bfloat16),\n",
       " tensor(1008., dtype=torch.bfloat16),\n",
       " tensor(1012., dtype=torch.bfloat16),\n",
       " tensor(1012., dtype=torch.bfloat16),\n",
       " tensor(1012., dtype=torch.bfloat16),\n",
       " tensor(1016., dtype=torch.bfloat16),\n",
       " tensor(1016., dtype=torch.bfloat16),\n",
       " tensor(1024., dtype=torch.bfloat16),\n",
       " tensor(1016., dtype=torch.bfloat16),\n",
       " tensor(1016., dtype=torch.bfloat16),\n",
       " tensor(1020., dtype=torch.bfloat16),\n",
       " tensor(1020., dtype=torch.bfloat16),\n",
       " tensor(1004., dtype=torch.bfloat16)]"
      ]
     },
     "execution_count": 84,
     "metadata": {},
     "output_type": "execute_result"
    }
   ],
   "source": [
    "nuc"
   ]
  },
  {
   "cell_type": "code",
   "execution_count": null,
   "metadata": {},
   "outputs": [],
   "source": []
  }
 ],
 "metadata": {
  "kernelspec": {
   "display_name": "lmflow",
   "language": "python",
   "name": "python3"
  },
  "language_info": {
   "codemirror_mode": {
    "name": "ipython",
    "version": 3
   },
   "file_extension": ".py",
   "mimetype": "text/x-python",
   "name": "python",
   "nbconvert_exporter": "python",
   "pygments_lexer": "ipython3",
   "version": "3.9.16"
  },
  "orig_nbformat": 4
 },
 "nbformat": 4,
 "nbformat_minor": 2
}

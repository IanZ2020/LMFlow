{
 "cells": [
  {
   "cell_type": "code",
   "execution_count": 1,
   "metadata": {},
   "outputs": [],
   "source": [
    "# Load model directly\n",
    "from transformers import AutoTokenizer, AutoModelForCausalLM\n",
    "import torch\n",
    "from torch import nn\n",
    "import torch.nn.utils.prune as prune\n",
    "import torch.nn.functional as F"
   ]
  },
  {
   "cell_type": "code",
   "execution_count": 2,
   "metadata": {},
   "outputs": [
    {
     "data": {
      "application/vnd.jupyter.widget-view+json": {
       "model_id": "73c6fd5aae8f408f906445d8893f6bb5",
       "version_major": 2,
       "version_minor": 0
      },
      "text/plain": [
       "Loading checkpoint shards:   0%|          | 0/3 [00:00<?, ?it/s]"
      ]
     },
     "metadata": {},
     "output_type": "display_data"
    }
   ],
   "source": [
    "tokenizer = AutoTokenizer.from_pretrained(\"pinkmanlove/llama-7b-hf\")\n",
    "model = AutoModelForCausalLM.from_pretrained(\"pinkmanlove/llama-13b-hf\", torch_dtype = torch.bfloat16)"
   ]
  },
  {
   "cell_type": "code",
   "execution_count": 30,
   "metadata": {},
   "outputs": [],
   "source": [
    "with torch.no_grad():\n",
    "    out = model.forward(torch.tensor([[1,2,12,5212,13]]), output_hidden_states=True)"
   ]
  },
  {
   "cell_type": "code",
   "execution_count": 25,
   "metadata": {},
   "outputs": [],
   "source": [
    "cos = nn.CosineSimilarity(dim=2, eps=1e-8)"
   ]
  },
  {
   "cell_type": "code",
   "execution_count": 31,
   "metadata": {},
   "outputs": [],
   "source": [
    "sim = []\n",
    "for i in range(len(model.base_model.layers)):\n",
    "    sim.append(cos(out.hidden_states[i],out.hidden_states[i+1]))"
   ]
  },
  {
   "cell_type": "code",
   "execution_count": 32,
   "metadata": {},
   "outputs": [
    {
     "data": {
      "text/plain": [
       "[tensor([[-0.0012,  0.1572,  0.3086,  0.3555,  0.0413]], dtype=torch.bfloat16),\n",
       " tensor([[0.9336, 0.9375, 0.8867, 0.9180, 0.9219]], dtype=torch.bfloat16),\n",
       " tensor([[0.4941, 0.6992, 0.7734, 0.8164, 0.6953]], dtype=torch.bfloat16),\n",
       " tensor([[1.0078, 0.9258, 0.9023, 0.8242, 0.7812]], dtype=torch.bfloat16),\n",
       " tensor([[1.0078, 0.9570, 0.9219, 0.8359, 0.8438]], dtype=torch.bfloat16),\n",
       " tensor([[1.0078, 0.7383, 0.9102, 0.8711, 0.5703]], dtype=torch.bfloat16),\n",
       " tensor([[1.0000, 0.1074, 0.8594, 0.9219, 0.2490]], dtype=torch.bfloat16),\n",
       " tensor([[0.9961, 1.0000, 0.9336, 0.9453, 1.0078]], dtype=torch.bfloat16),\n",
       " tensor([[0.9961, 1.0000, 0.9531, 0.9375, 1.0078]], dtype=torch.bfloat16),\n",
       " tensor([[0.9961, 1.0000, 0.9531, 0.9219, 1.0078]], dtype=torch.bfloat16),\n",
       " tensor([[0.9961, 1.0000, 0.9453, 0.9297, 1.0078]], dtype=torch.bfloat16),\n",
       " tensor([[0.9961, 1.0000, 0.9531, 0.9414, 1.0078]], dtype=torch.bfloat16),\n",
       " tensor([[0.9961, 1.0000, 0.9570, 0.9297, 1.0078]], dtype=torch.bfloat16),\n",
       " tensor([[0.9961, 1.0000, 0.9570, 0.9375, 1.0078]], dtype=torch.bfloat16),\n",
       " tensor([[0.9961, 1.0000, 0.9609, 0.9375, 1.0078]], dtype=torch.bfloat16),\n",
       " tensor([[0.9961, 1.0000, 0.9414, 0.9531, 1.0078]], dtype=torch.bfloat16),\n",
       " tensor([[1.0000, 1.0000, 0.9688, 0.9531, 1.0078]], dtype=torch.bfloat16),\n",
       " tensor([[1.0000, 1.0000, 0.9609, 0.9609, 1.0078]], dtype=torch.bfloat16),\n",
       " tensor([[1.0000, 1.0000, 0.9727, 0.9609, 1.0078]], dtype=torch.bfloat16),\n",
       " tensor([[1.0000, 1.0000, 0.9531, 0.9492, 1.0078]], dtype=torch.bfloat16),\n",
       " tensor([[1.0000, 1.0000, 0.9531, 0.9453, 1.0078]], dtype=torch.bfloat16),\n",
       " tensor([[1.0000, 1.0000, 0.9727, 0.9609, 1.0000]], dtype=torch.bfloat16),\n",
       " tensor([[1.0000, 1.0000, 0.9648, 0.9570, 1.0078]], dtype=torch.bfloat16),\n",
       " tensor([[1.0000, 1.0000, 0.9805, 0.9570, 1.0078]], dtype=torch.bfloat16),\n",
       " tensor([[1.0000, 1.0000, 0.9727, 0.9766, 1.0000]], dtype=torch.bfloat16),\n",
       " tensor([[1.0000, 1.0000, 0.9805, 0.9844, 1.0000]], dtype=torch.bfloat16),\n",
       " tensor([[1.0000, 1.0000, 0.9766, 0.9766, 1.0000]], dtype=torch.bfloat16),\n",
       " tensor([[1.0000, 1.0000, 0.9844, 0.9805, 1.0000]], dtype=torch.bfloat16),\n",
       " tensor([[1.0000, 1.0000, 0.9805, 0.9766, 1.0000]], dtype=torch.bfloat16),\n",
       " tensor([[1.0000, 1.0000, 0.9766, 0.9766, 1.0000]], dtype=torch.bfloat16),\n",
       " tensor([[1.0000, 1.0000, 0.9805, 0.9805, 1.0000]], dtype=torch.bfloat16),\n",
       " tensor([[1.0000, 1.0000, 0.9844, 0.9805, 1.0000]], dtype=torch.bfloat16),\n",
       " tensor([[1.0000, 1.0000, 0.9844, 0.9805, 1.0000]], dtype=torch.bfloat16),\n",
       " tensor([[0.9961, 1.0000, 0.9766, 0.9844, 1.0000]], dtype=torch.bfloat16),\n",
       " tensor([[0.9961, 1.0000, 0.9844, 0.9805, 1.0078]], dtype=torch.bfloat16),\n",
       " tensor([[1.0000, 1.0000, 0.9805, 0.9688, 1.0078]], dtype=torch.bfloat16),\n",
       " tensor([[1.0000, 1.0000, 0.9805, 0.9805, 0.9961]], dtype=torch.bfloat16),\n",
       " tensor([[1.0000, 1.0000, 0.9727, 0.9727, 0.9844]], dtype=torch.bfloat16),\n",
       " tensor([[0.6289, 1.0000, 0.9141, 0.9258, 0.9922]], dtype=torch.bfloat16),\n",
       " tensor([[0.2354, 0.9648, 0.7070, 0.7500, 0.4258]], dtype=torch.bfloat16)]"
      ]
     },
     "execution_count": 32,
     "metadata": {},
     "output_type": "execute_result"
    }
   ],
   "source": [
    "sim"
   ]
  },
  {
   "cell_type": "code",
   "execution_count": null,
   "metadata": {},
   "outputs": [],
   "source": []
  }
 ],
 "metadata": {
  "kernelspec": {
   "display_name": "lmflow",
   "language": "python",
   "name": "python3"
  },
  "language_info": {
   "codemirror_mode": {
    "name": "ipython",
    "version": 3
   },
   "file_extension": ".py",
   "mimetype": "text/x-python",
   "name": "python",
   "nbconvert_exporter": "python",
   "pygments_lexer": "ipython3",
   "version": "3.9.16"
  },
  "orig_nbformat": 4
 },
 "nbformat": 4,
 "nbformat_minor": 2
}
